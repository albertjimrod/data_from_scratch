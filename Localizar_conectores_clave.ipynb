{
 "cells": [
  {
   "cell_type": "markdown",
   "metadata": {},
   "source": [
    "## Localizar quienes son los conectores clave.\n",
    "\n",
    "El objetivo del siguiente estudio es identificar quienes son los \"conectores clave\" de una lista. \n",
    "\n",
    "\n",
    "### Lista de usuarios\n",
    "\n",
    "La lista de usuarios la he construido haciendo uso de una **comprehension list**"
   ]
  },
  {
   "cell_type": "code",
   "execution_count": 1,
   "metadata": {},
   "outputs": [],
   "source": [
    "lista = [\"Hero\", \"Dunn\", \"Sue\", \"Chi\", \"Thor\", \"Clive\", \"Hicks\", \"Devin\", \"Kate\", \"Klein\"]\n",
    "users = []"
   ]
  },
  {
   "cell_type": "code",
   "execution_count": 2,
   "metadata": {},
   "outputs": [
    {
     "name": "stdout",
     "output_type": "stream",
     "text": [
      "9\n",
      "['{ \"id\": 0 , \"name\": \"Hero\" ,}', '{ \"id\": 1 , \"name\": \"Dunn\" ,}', '{ \"id\": 2 , \"name\": \"Sue\" ,}', '{ \"id\": 3 , \"name\": \"Chi\" ,}', '{ \"id\": 4 , \"name\": \"Thor\" ,}', '{ \"id\": 5 , \"name\": \"Clive\" ,}', '{ \"id\": 6 , \"name\": \"Hicks\" ,}', '{ \"id\": 7 , \"name\": \"Devin\" ,}', '{ \"id\": 8 , \"name\": \"Kate\" ,}', '{ \"id\": 9 , \"name\": Klein }']\n"
     ]
    }
   ],
   "source": [
    "long = len(lista) - 1\n",
    "\n",
    "print(long)\n",
    "users = [\"{{ \\\"id\\\": {1} , \\\"name\\\": \\\"{0}\\\" ,}}\".format(i, lista.index(i)) \n",
    "        if lista.index(i) < long else \"{{ \\\"id\\\": {1} , \\\"name\\\": {0} }}\".format(i, lista.index(i))for i in lista]\n",
    "print(users)"
   ]
  },
  {
   "cell_type": "code",
   "execution_count": 3,
   "metadata": {},
   "outputs": [
    {
     "name": "stdout",
     "output_type": "stream",
     "text": [
      "{ \"id\": 0 , \"name\": \"Hero\" ,}\n",
      "{ \"id\": 1 , \"name\": \"Dunn\" ,}\n",
      "{ \"id\": 2 , \"name\": \"Sue\" ,}\n",
      "{ \"id\": 3 , \"name\": \"Chi\" ,}\n",
      "{ \"id\": 4 , \"name\": \"Thor\" ,}\n",
      "{ \"id\": 5 , \"name\": \"Clive\" ,}\n",
      "{ \"id\": 6 , \"name\": \"Hicks\" ,}\n",
      "{ \"id\": 7 , \"name\": \"Devin\" ,}\n",
      "{ \"id\": 8 , \"name\": \"Kate\" ,}\n",
      "{ \"id\": 9 , \"name\": Klein }\n"
     ]
    }
   ],
   "source": [
    "for a in users:\n",
    "    print(a)"
   ]
  },
  {
   "cell_type": "markdown",
   "metadata": {},
   "source": [
    "----\n",
    "### Gráfico de relación entre los usuarios."
   ]
  },
  {
   "cell_type": "markdown",
   "metadata": {},
   "source": [
    "![lista_amistad](lista_amitad.png)"
   ]
  },
  {
   "cell_type": "code",
   "execution_count": 4,
   "metadata": {},
   "outputs": [],
   "source": [
    "friendship_pairs = [(0,1), (0,2), (1,2), (1,3), (2,3), (3,4), (4,5), (5,6), (5,7), (6,8), (7,8), (8,9)]"
   ]
  },
  {
   "cell_type": "markdown",
   "metadata": {},
   "source": [
    "#### Nota: \n",
    "\n",
    "Hacer uso de listas de pares no es lo mejor a la hora de encontrar todas las amistades por usuario, pues hay que pasar por cada par buscando pares que contengan 1. En el caso de que hubiera muchos pares el proceso llevaría mucho tiempo.\n",
    "\n",
    "Si creamos un `dict` en que las clavers sean `id` de usuario y los valores sean listas de `id` de amigos será mucho más rápido.\n",
    "\n",
    "Aun tendremos que consultar cada par para crear el `dict`, pero solamente habrá que hacerlo una vez y despues las consultas no costaran nada."
   ]
  },
  {
   "cell_type": "code",
   "execution_count": 5,
   "metadata": {},
   "outputs": [
    {
     "name": "stdout",
     "output_type": "stream",
     "text": [
      "{ \"id\": 0 , \"name\": \"Hero\" ,}\n",
      "{ \"id\": 1 , \"name\": \"Dunn\" ,}\n",
      "{ \"id\": 2 , \"name\": \"Sue\" ,}\n",
      "{ \"id\": 3 , \"name\": \"Chi\" ,}\n",
      "{ \"id\": 4 , \"name\": \"Thor\" ,}\n",
      "{ \"id\": 5 , \"name\": \"Clive\" ,}\n",
      "{ \"id\": 6 , \"name\": \"Hicks\" ,}\n",
      "{ \"id\": 7 , \"name\": \"Devin\" ,}\n",
      "{ \"id\": 8 , \"name\": \"Kate\" ,}\n",
      "{ \"id\": 9 , \"name\": Klein }\n"
     ]
    }
   ],
   "source": [
    "for user in users:\n",
    "    print(user)"
   ]
  },
  {
   "cell_type": "code",
   "execution_count": 6,
   "metadata": {},
   "outputs": [
    {
     "data": {
      "text/plain": [
       "'9'"
      ]
     },
     "execution_count": 6,
     "metadata": {},
     "output_type": "execute_result"
    }
   ],
   "source": [
    "# Al estar almacenado como texto, es necesario obtener el caracter del indice para mas adelante convertirlo a entero.\n",
    "user[8:9]"
   ]
  },
  {
   "cell_type": "code",
   "execution_count": 7,
   "metadata": {},
   "outputs": [
    {
     "data": {
      "text/plain": [
       "{0: [], 1: [], 2: [], 3: [], 4: [], 5: [], 6: [], 7: [], 8: [], 9: []}"
      ]
     },
     "execution_count": 7,
     "metadata": {},
     "output_type": "execute_result"
    }
   ],
   "source": [
    "# Inicializar el dict con una lista vacia para cada id de usuario.\n",
    "\n",
    "friendships = {int(user[8:9]): [] for user in users}\n",
    "friendships"
   ]
  },
  {
   "cell_type": "code",
   "execution_count": 8,
   "metadata": {},
   "outputs": [
    {
     "name": "stdout",
     "output_type": "stream",
     "text": [
      "friendships[i] [1] j: 1\n",
      "friendships[j] [0] i: 0\n",
      "friendships[i] [1, 2] j: 2\n",
      "friendships[j] [0] i: 0\n",
      "friendships[i] [0, 2] j: 2\n",
      "friendships[j] [0, 1] i: 1\n",
      "friendships[i] [0, 2, 3] j: 3\n",
      "friendships[j] [1] i: 1\n",
      "friendships[i] [0, 1, 3] j: 3\n",
      "friendships[j] [1, 2] i: 2\n",
      "friendships[i] [1, 2, 4] j: 4\n",
      "friendships[j] [3] i: 3\n",
      "friendships[i] [3, 5] j: 5\n",
      "friendships[j] [4] i: 4\n",
      "friendships[i] [4, 6] j: 6\n",
      "friendships[j] [5] i: 5\n",
      "friendships[i] [4, 6, 7] j: 7\n",
      "friendships[j] [5] i: 5\n",
      "friendships[i] [5, 8] j: 8\n",
      "friendships[j] [6] i: 6\n",
      "friendships[i] [5, 8] j: 8\n",
      "friendships[j] [6, 7] i: 7\n",
      "friendships[i] [6, 7, 9] j: 9\n",
      "friendships[j] [8] i: 8\n"
     ]
    }
   ],
   "source": [
    "# Y pasar por todos los pares de amistad para llenarlo:\n",
    "# contenido: friendship_pairs = [(0,1), (0,2), (1,2), (1,3)...\n",
    "\n",
    "for i, j in friendship_pairs: # Aqui es donde está la tupla\n",
    "    text_1 = \"friendships[i] {0} j: {1}\"\n",
    "    text_2 = \"friendships[j] {0} i: {1}\"\n",
    "    \n",
    "    friendships[i].append(j)  # Añadir como amigo del usuario j\n",
    "    friendships[j].append(i)  # Añadir como amigo del usuario i\n",
    "    \n",
    "    print(text_1.format(friendships[i], j))\n",
    "    print(text_2.format(friendships[j], i))"
   ]
  },
  {
   "cell_type": "code",
   "execution_count": 9,
   "metadata": {},
   "outputs": [
    {
     "data": {
      "text/plain": [
       "[(0, 1),\n",
       " (0, 2),\n",
       " (1, 2),\n",
       " (1, 3),\n",
       " (2, 3),\n",
       " (3, 4),\n",
       " (4, 5),\n",
       " (5, 6),\n",
       " (5, 7),\n",
       " (6, 8),\n",
       " (7, 8),\n",
       " (8, 9)]"
      ]
     },
     "execution_count": 9,
     "metadata": {},
     "output_type": "execute_result"
    }
   ],
   "source": [
    "# Ahora tenemos las amistades en un diccionario.\n",
    "\n",
    "friendship_pairs"
   ]
  },
  {
   "cell_type": "markdown",
   "metadata": {},
   "source": [
    "### Ahora ya tenemos las amistadas en un `dict`, podemos formular preguntas sobre nuestro grafo, como por ejemplo:\n",
    "\n",
    "¿Cuál es el número medio de conexiones?\n",
    "\n",
    "- Hallamos el número total de conexiones sumando las longitudes de todas las listas `friends`"
   ]
  },
  {
   "cell_type": "code",
   "execution_count": 10,
   "metadata": {},
   "outputs": [],
   "source": [
    "def number_of_friends(user):\n",
    "    \"\"\"How many friends does user have?\"\"\"\n",
    "    user_id = int(user[8:9]) #user[\"id\"]\n",
    "    friend_ids = friendships[user_id]\n",
    "    return len(friend_ids)"
   ]
  },
  {
   "cell_type": "code",
   "execution_count": 11,
   "metadata": {},
   "outputs": [
    {
     "data": {
      "text/plain": [
       "24"
      ]
     },
     "execution_count": 11,
     "metadata": {},
     "output_type": "execute_result"
    }
   ],
   "source": [
    "total_connections = sum(number_of_friends(user) \n",
    "                      for user in users)\n",
    "total_connections"
   ]
  },
  {
   "cell_type": "code",
   "execution_count": 12,
   "metadata": {},
   "outputs": [
    {
     "data": {
      "text/plain": [
       "2.4"
      ]
     },
     "execution_count": 12,
     "metadata": {},
     "output_type": "execute_result"
    }
   ],
   "source": [
    "### El numero de conexiones la dividimos por el número de usuarios.\n",
    "\n",
    "num_users = len(users)                            # longitud de la lista de usuarios\n",
    "avg_connections = total_connections / num_users   # 24/10 == 2,4\n",
    "avg_connections"
   ]
  },
  {
   "cell_type": "markdown",
   "metadata": {},
   "source": [
    "### Cuales son las personas mas conectadas?\n",
    "\n",
    "Al no haber muchos usuarios lo podemos hacer ordenando de mayor cantidad de amigos a la menor cantidad de amigos.\n"
   ]
  },
  {
   "cell_type": "code",
   "execution_count": 13,
   "metadata": {},
   "outputs": [
    {
     "name": "stdout",
     "output_type": "stream",
     "text": [
      "2\n",
      "3\n",
      "3\n",
      "3\n",
      "2\n",
      "3\n",
      "2\n",
      "2\n",
      "3\n",
      "1\n"
     ]
    }
   ],
   "source": [
    "# numero de conexiones\n",
    "for user in users:\n",
    "    print(number_of_friends(user))"
   ]
  },
  {
   "cell_type": "code",
   "execution_count": 14,
   "metadata": {},
   "outputs": [
    {
     "name": "stdout",
     "output_type": "stream",
     "text": [
      "0\n",
      "1\n",
      "2\n",
      "3\n",
      "4\n",
      "5\n",
      "6\n",
      "7\n",
      "8\n",
      "9\n"
     ]
    }
   ],
   "source": [
    "# numero de id usuario.\n",
    "for user in users:\n",
    "    print(int(user[8:9]))"
   ]
  },
  {
   "cell_type": "code",
   "execution_count": 15,
   "metadata": {},
   "outputs": [
    {
     "data": {
      "text/plain": [
       "[(0, 2),\n",
       " (1, 3),\n",
       " (2, 3),\n",
       " (3, 3),\n",
       " (4, 2),\n",
       " (5, 3),\n",
       " (6, 2),\n",
       " (7, 2),\n",
       " (8, 3),\n",
       " (9, 1)]"
      ]
     },
     "execution_count": 15,
     "metadata": {},
     "output_type": "execute_result"
    }
   ],
   "source": [
    "# lista num_friends_by_id\n",
    "\n",
    "num_friends_by_id = [(int(user[8:9]), number_of_friends(user)) for user in users]\n",
    "num_friends_by_id"
   ]
  },
  {
   "cell_type": "code",
   "execution_count": 16,
   "metadata": {},
   "outputs": [
    {
     "data": {
      "text/plain": [
       "[(1, 3),\n",
       " (2, 3),\n",
       " (3, 3),\n",
       " (5, 3),\n",
       " (8, 3),\n",
       " (0, 2),\n",
       " (4, 2),\n",
       " (6, 2),\n",
       " (7, 2),\n",
       " (9, 1)]"
      ]
     },
     "execution_count": 16,
     "metadata": {},
     "output_type": "execute_result"
    }
   ],
   "source": [
    "# lista num_friends_by_id ordenada\n",
    "\n",
    "num_friends_by_id.sort(key=lambda id_and_friends: id_and_friends[1], reverse=True)\n",
    "num_friends_by_id"
   ]
  },
  {
   "cell_type": "markdown",
   "metadata": {},
   "source": [
    "![lista_amistad](lista_amitad.png)\n",
    "\n",
    "Así es como se ha hayado a las personas con mayor relación de entre el resto de individuos de la lista y que por lo tanto son centrales en la red. \n",
    "\n",
    "A esto se le conoce como **centralidad de grado de la red**"
   ]
  }
 ],
 "metadata": {
  "kernelspec": {
   "display_name": "Python 3",
   "language": "python",
   "name": "python3"
  },
  "language_info": {
   "codemirror_mode": {
    "name": "ipython",
    "version": 3
   },
   "file_extension": ".py",
   "mimetype": "text/x-python",
   "name": "python",
   "nbconvert_exporter": "python",
   "pygments_lexer": "ipython3",
   "version": "3.8.2"
  }
 },
 "nbformat": 4,
 "nbformat_minor": 4
}
